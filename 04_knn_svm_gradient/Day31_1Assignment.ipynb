{
  "nbformat": 4,
  "nbformat_minor": 0,
  "metadata": {
    "colab": {
      "name": "Shontelle_Day31_1Assignment.ipynb",
      "provenance": [],
      "collapsed_sections": []
    },
    "kernelspec": {
      "display_name": "Python 3",
      "language": "python",
      "name": "python3"
    },
    "language_info": {
      "codemirror_mode": {
        "name": "ipython",
        "version": 3
      },
      "file_extension": ".py",
      "mimetype": "text/x-python",
      "name": "python",
      "nbconvert_exporter": "python",
      "pygments_lexer": "ipython3",
      "version": "3.6.8"
    }
  },
  "cells": [
    {
      "cell_type": "markdown",
      "metadata": {
        "id": "Zrf-3-WBni8C"
      },
      "source": [
        "## Day 31 Lecture 1 Assignment\n",
        "\n",
        "In this assignment, we will learn about the K nearest neighbor algorithm. We will use the titanic dataset and create a model that can predict if a passenger will survive the Titanic Shipwreck or not {0, 1}."
      ]
    },
    {
      "cell_type": "code",
      "metadata": {
        "id": "gqWRoLL-ni8D"
      },
      "source": [
        "%matplotlib inline\n",
        "import matplotlib.pyplot as plt\n",
        "import numpy as np\n",
        "import pandas as pd"
      ],
      "execution_count": null,
      "outputs": []
    },
    {
      "cell_type": "markdown",
      "metadata": {
        "id": "mquW1WIJvuNg"
      },
      "source": [
        "Columns:\n",
        "- 'PassengerId': id of the passenger\n",
        "- 'Survived': \n",
        "- 'Pclass': Ticket class\n",
        "- 'Name': Name\n",
        "- 'Sex': sex\n",
        "- 'Age': Age in years\n",
        "- 'SibSp': # of siblings / spouses aboard the Titanic\n",
        "- 'Parch': # of parents / children aboard the Titanic\n",
        "- 'Ticket': \n",
        "- 'Fare': Passenger fare\n",
        "- 'Cabin': Cabin number\n",
        "- 'Embarked': Port of Embarkation"
      ]
    },
    {
      "cell_type": "code",
      "metadata": {
        "id": "wSzfEaauni8F",
        "colab": {
          "base_uri": "https://localhost:8080/",
          "height": 255
        },
        "outputId": "9004cce0-63ff-4cd5-d20d-75296c808073"
      },
      "source": [
        "titanic = pd.read_csv('https://tf-assets-prod.s3.amazonaws.com/tf-curric/data-science/titanic.csv')\n",
        "titanic.head()"
      ],
      "execution_count": null,
      "outputs": [
        {
          "output_type": "execute_result",
          "data": {
            "text/html": [
              "<div>\n",
              "<style scoped>\n",
              "    .dataframe tbody tr th:only-of-type {\n",
              "        vertical-align: middle;\n",
              "    }\n",
              "\n",
              "    .dataframe tbody tr th {\n",
              "        vertical-align: top;\n",
              "    }\n",
              "\n",
              "    .dataframe thead th {\n",
              "        text-align: right;\n",
              "    }\n",
              "</style>\n",
              "<table border=\"1\" class=\"dataframe\">\n",
              "  <thead>\n",
              "    <tr style=\"text-align: right;\">\n",
              "      <th></th>\n",
              "      <th>PassengerId</th>\n",
              "      <th>Survived</th>\n",
              "      <th>Pclass</th>\n",
              "      <th>Name</th>\n",
              "      <th>Sex</th>\n",
              "      <th>Age</th>\n",
              "      <th>SibSp</th>\n",
              "      <th>Parch</th>\n",
              "      <th>Ticket</th>\n",
              "      <th>Fare</th>\n",
              "      <th>Cabin</th>\n",
              "      <th>Embarked</th>\n",
              "    </tr>\n",
              "  </thead>\n",
              "  <tbody>\n",
              "    <tr>\n",
              "      <th>0</th>\n",
              "      <td>1</td>\n",
              "      <td>0</td>\n",
              "      <td>3</td>\n",
              "      <td>Braund, Mr. Owen Harris</td>\n",
              "      <td>male</td>\n",
              "      <td>22.0</td>\n",
              "      <td>1</td>\n",
              "      <td>0</td>\n",
              "      <td>A/5 21171</td>\n",
              "      <td>7.2500</td>\n",
              "      <td>NaN</td>\n",
              "      <td>S</td>\n",
              "    </tr>\n",
              "    <tr>\n",
              "      <th>1</th>\n",
              "      <td>2</td>\n",
              "      <td>1</td>\n",
              "      <td>1</td>\n",
              "      <td>Cumings, Mrs. John Bradley (Florence Briggs Th...</td>\n",
              "      <td>female</td>\n",
              "      <td>38.0</td>\n",
              "      <td>1</td>\n",
              "      <td>0</td>\n",
              "      <td>PC 17599</td>\n",
              "      <td>71.2833</td>\n",
              "      <td>C85</td>\n",
              "      <td>C</td>\n",
              "    </tr>\n",
              "    <tr>\n",
              "      <th>2</th>\n",
              "      <td>3</td>\n",
              "      <td>1</td>\n",
              "      <td>3</td>\n",
              "      <td>Heikkinen, Miss. Laina</td>\n",
              "      <td>female</td>\n",
              "      <td>26.0</td>\n",
              "      <td>0</td>\n",
              "      <td>0</td>\n",
              "      <td>STON/O2. 3101282</td>\n",
              "      <td>7.9250</td>\n",
              "      <td>NaN</td>\n",
              "      <td>S</td>\n",
              "    </tr>\n",
              "    <tr>\n",
              "      <th>3</th>\n",
              "      <td>4</td>\n",
              "      <td>1</td>\n",
              "      <td>1</td>\n",
              "      <td>Futrelle, Mrs. Jacques Heath (Lily May Peel)</td>\n",
              "      <td>female</td>\n",
              "      <td>35.0</td>\n",
              "      <td>1</td>\n",
              "      <td>0</td>\n",
              "      <td>113803</td>\n",
              "      <td>53.1000</td>\n",
              "      <td>C123</td>\n",
              "      <td>S</td>\n",
              "    </tr>\n",
              "    <tr>\n",
              "      <th>4</th>\n",
              "      <td>5</td>\n",
              "      <td>0</td>\n",
              "      <td>3</td>\n",
              "      <td>Allen, Mr. William Henry</td>\n",
              "      <td>male</td>\n",
              "      <td>35.0</td>\n",
              "      <td>0</td>\n",
              "      <td>0</td>\n",
              "      <td>373450</td>\n",
              "      <td>8.0500</td>\n",
              "      <td>NaN</td>\n",
              "      <td>S</td>\n",
              "    </tr>\n",
              "  </tbody>\n",
              "</table>\n",
              "</div>"
            ],
            "text/plain": [
              "   PassengerId  Survived  Pclass  ...     Fare Cabin  Embarked\n",
              "0            1         0       3  ...   7.2500   NaN         S\n",
              "1            2         1       1  ...  71.2833   C85         C\n",
              "2            3         1       3  ...   7.9250   NaN         S\n",
              "3            4         1       1  ...  53.1000  C123         S\n",
              "4            5         0       3  ...   8.0500   NaN         S\n",
              "\n",
              "[5 rows x 12 columns]"
            ]
          },
          "metadata": {
            "tags": []
          },
          "execution_count": 2
        }
      ]
    },
    {
      "cell_type": "markdown",
      "metadata": {
        "id": "bkE7pnkOvuNk"
      },
      "source": [
        "We check the distribution of variables for the column we want to predict."
      ]
    },
    {
      "cell_type": "code",
      "metadata": {
        "id": "df0WkOQFvuNl",
        "colab": {
          "base_uri": "https://localhost:8080/",
          "height": 68
        },
        "outputId": "72364a05-651b-4a1a-97b2-5fb104265f93"
      },
      "source": [
        "# Calculate value counts for the Survived column\n",
        "titanic['Survived'].value_counts()"
      ],
      "execution_count": null,
      "outputs": [
        {
          "output_type": "execute_result",
          "data": {
            "text/plain": [
              "0    549\n",
              "1    342\n",
              "Name: Survived, dtype: int64"
            ]
          },
          "metadata": {
            "tags": []
          },
          "execution_count": 3
        }
      ]
    },
    {
      "cell_type": "markdown",
      "metadata": {
        "id": "5dk0oqeBni8I"
      },
      "source": [
        "First, check for missing data and remove all columns containing missing data"
      ]
    },
    {
      "cell_type": "code",
      "metadata": {
        "id": "JT9kbyCJni8J",
        "colab": {
          "base_uri": "https://localhost:8080/",
          "height": 238
        },
        "outputId": "e4a3bc31-6980-47d6-c920-f10be5e4df76"
      },
      "source": [
        "# Calculate NA values per column\n",
        "titanic.isnull().mean()"
      ],
      "execution_count": null,
      "outputs": [
        {
          "output_type": "execute_result",
          "data": {
            "text/plain": [
              "PassengerId    0.000000\n",
              "Survived       0.000000\n",
              "Pclass         0.000000\n",
              "Name           0.000000\n",
              "Sex            0.000000\n",
              "Age            0.198653\n",
              "SibSp          0.000000\n",
              "Parch          0.000000\n",
              "Ticket         0.000000\n",
              "Fare           0.000000\n",
              "Cabin          0.771044\n",
              "Embarked       0.002245\n",
              "dtype: float64"
            ]
          },
          "metadata": {
            "tags": []
          },
          "execution_count": 12
        }
      ]
    },
    {
      "cell_type": "code",
      "metadata": {
        "id": "HCABinW0fxld"
      },
      "source": [
        "#remove columns with missing data (Age, Cabin, Embarked)\n",
        "titanic = titanic.dropna(axis=1)"
      ],
      "execution_count": null,
      "outputs": []
    },
    {
      "cell_type": "code",
      "metadata": {
        "id": "Q5IkQfVEgCdi",
        "colab": {
          "base_uri": "https://localhost:8080/",
          "height": 204
        },
        "outputId": "0d0fe8a1-2522-4c2a-97d2-c64b8cfea827"
      },
      "source": [
        "titanic.head()"
      ],
      "execution_count": null,
      "outputs": [
        {
          "output_type": "execute_result",
          "data": {
            "text/html": [
              "<div>\n",
              "<style scoped>\n",
              "    .dataframe tbody tr th:only-of-type {\n",
              "        vertical-align: middle;\n",
              "    }\n",
              "\n",
              "    .dataframe tbody tr th {\n",
              "        vertical-align: top;\n",
              "    }\n",
              "\n",
              "    .dataframe thead th {\n",
              "        text-align: right;\n",
              "    }\n",
              "</style>\n",
              "<table border=\"1\" class=\"dataframe\">\n",
              "  <thead>\n",
              "    <tr style=\"text-align: right;\">\n",
              "      <th></th>\n",
              "      <th>PassengerId</th>\n",
              "      <th>Survived</th>\n",
              "      <th>Pclass</th>\n",
              "      <th>Name</th>\n",
              "      <th>Sex</th>\n",
              "      <th>SibSp</th>\n",
              "      <th>Parch</th>\n",
              "      <th>Ticket</th>\n",
              "      <th>Fare</th>\n",
              "    </tr>\n",
              "  </thead>\n",
              "  <tbody>\n",
              "    <tr>\n",
              "      <th>0</th>\n",
              "      <td>1</td>\n",
              "      <td>0</td>\n",
              "      <td>3</td>\n",
              "      <td>Braund, Mr. Owen Harris</td>\n",
              "      <td>male</td>\n",
              "      <td>1</td>\n",
              "      <td>0</td>\n",
              "      <td>A/5 21171</td>\n",
              "      <td>7.2500</td>\n",
              "    </tr>\n",
              "    <tr>\n",
              "      <th>1</th>\n",
              "      <td>2</td>\n",
              "      <td>1</td>\n",
              "      <td>1</td>\n",
              "      <td>Cumings, Mrs. John Bradley (Florence Briggs Th...</td>\n",
              "      <td>female</td>\n",
              "      <td>1</td>\n",
              "      <td>0</td>\n",
              "      <td>PC 17599</td>\n",
              "      <td>71.2833</td>\n",
              "    </tr>\n",
              "    <tr>\n",
              "      <th>2</th>\n",
              "      <td>3</td>\n",
              "      <td>1</td>\n",
              "      <td>3</td>\n",
              "      <td>Heikkinen, Miss. Laina</td>\n",
              "      <td>female</td>\n",
              "      <td>0</td>\n",
              "      <td>0</td>\n",
              "      <td>STON/O2. 3101282</td>\n",
              "      <td>7.9250</td>\n",
              "    </tr>\n",
              "    <tr>\n",
              "      <th>3</th>\n",
              "      <td>4</td>\n",
              "      <td>1</td>\n",
              "      <td>1</td>\n",
              "      <td>Futrelle, Mrs. Jacques Heath (Lily May Peel)</td>\n",
              "      <td>female</td>\n",
              "      <td>1</td>\n",
              "      <td>0</td>\n",
              "      <td>113803</td>\n",
              "      <td>53.1000</td>\n",
              "    </tr>\n",
              "    <tr>\n",
              "      <th>4</th>\n",
              "      <td>5</td>\n",
              "      <td>0</td>\n",
              "      <td>3</td>\n",
              "      <td>Allen, Mr. William Henry</td>\n",
              "      <td>male</td>\n",
              "      <td>0</td>\n",
              "      <td>0</td>\n",
              "      <td>373450</td>\n",
              "      <td>8.0500</td>\n",
              "    </tr>\n",
              "  </tbody>\n",
              "</table>\n",
              "</div>"
            ],
            "text/plain": [
              "   PassengerId  Survived  Pclass  ... Parch            Ticket     Fare\n",
              "0            1         0       3  ...     0         A/5 21171   7.2500\n",
              "1            2         1       1  ...     0          PC 17599  71.2833\n",
              "2            3         1       3  ...     0  STON/O2. 3101282   7.9250\n",
              "3            4         1       1  ...     0            113803  53.1000\n",
              "4            5         0       3  ...     0            373450   8.0500\n",
              "\n",
              "[5 rows x 9 columns]"
            ]
          },
          "metadata": {
            "tags": []
          },
          "execution_count": 14
        }
      ]
    },
    {
      "cell_type": "markdown",
      "metadata": {
        "id": "BdXDgyNCvuNw"
      },
      "source": [
        "We also drop columns that are not informative and contain too many unique values(e.g. name)"
      ]
    },
    {
      "cell_type": "code",
      "metadata": {
        "id": "5QOylqV_vuNx",
        "colab": {
          "base_uri": "https://localhost:8080/",
          "height": 170
        },
        "outputId": "44f25286-3ced-44a0-8e57-fbbc4eee4f16"
      },
      "source": [
        "# Calculate unique values for each column\n",
        "print('\\n'.join([f\"Column with name '{c}' has {titanic[c].nunique()} unique values\" for c in titanic.columns]))    "
      ],
      "execution_count": null,
      "outputs": [
        {
          "output_type": "stream",
          "text": [
            "Column with name 'PassengerId' has 891 unique values\n",
            "Column with name 'Survived' has 2 unique values\n",
            "Column with name 'Pclass' has 3 unique values\n",
            "Column with name 'Name' has 891 unique values\n",
            "Column with name 'Sex' has 2 unique values\n",
            "Column with name 'SibSp' has 7 unique values\n",
            "Column with name 'Parch' has 7 unique values\n",
            "Column with name 'Ticket' has 681 unique values\n",
            "Column with name 'Fare' has 248 unique values\n"
          ],
          "name": "stdout"
        }
      ]
    },
    {
      "cell_type": "code",
      "metadata": {
        "id": "ARnS2ZLLvuN0"
      },
      "source": [
        "# Drop columns 'PassengerId', 'Name' and 'Ticket'.\n",
        "titanic = titanic.drop(['PassengerId', 'Name', 'Ticket'], axis=1)"
      ],
      "execution_count": null,
      "outputs": []
    },
    {
      "cell_type": "markdown",
      "metadata": {
        "id": "zC2YmEBTni8K"
      },
      "source": [
        "To use the data, we must convert all columns to numeric. Do this by replacing yes and no with 1 and 0."
      ]
    },
    {
      "cell_type": "code",
      "metadata": {
        "id": "FAtUVUKXgi--",
        "colab": {
          "base_uri": "https://localhost:8080/",
          "height": 238
        },
        "outputId": "944881f2-1dc7-4899-a229-2563bf4a2897"
      },
      "source": [
        "titanic.info()"
      ],
      "execution_count": null,
      "outputs": [
        {
          "output_type": "stream",
          "text": [
            "<class 'pandas.core.frame.DataFrame'>\n",
            "RangeIndex: 891 entries, 0 to 890\n",
            "Data columns (total 6 columns):\n",
            " #   Column    Non-Null Count  Dtype  \n",
            "---  ------    --------------  -----  \n",
            " 0   Survived  891 non-null    int64  \n",
            " 1   Pclass    891 non-null    int64  \n",
            " 2   Sex       891 non-null    object \n",
            " 3   SibSp     891 non-null    int64  \n",
            " 4   Parch     891 non-null    int64  \n",
            " 5   Fare      891 non-null    float64\n",
            "dtypes: float64(1), int64(4), object(1)\n",
            "memory usage: 41.9+ KB\n"
          ],
          "name": "stdout"
        }
      ]
    },
    {
      "cell_type": "code",
      "metadata": {
        "id": "5SKAcRjJGFZC",
        "colab": {
          "base_uri": "https://localhost:8080/",
          "height": 204
        },
        "outputId": "75ace72b-8982-48a0-8d65-50b462643b67"
      },
      "source": [
        "# Use get_dummies to get a dataset with one hot encoded columns for categorical variables\n",
        "# Survived should be excluded.\n",
        "#only cat = sex\n",
        "sex = pd.get_dummies(titanic['Sex'], drop_first=True)\n",
        "titanic = pd.concat([titanic, sex], axis=1)\n",
        "titanic.head()"
      ],
      "execution_count": null,
      "outputs": [
        {
          "output_type": "execute_result",
          "data": {
            "text/html": [
              "<div>\n",
              "<style scoped>\n",
              "    .dataframe tbody tr th:only-of-type {\n",
              "        vertical-align: middle;\n",
              "    }\n",
              "\n",
              "    .dataframe tbody tr th {\n",
              "        vertical-align: top;\n",
              "    }\n",
              "\n",
              "    .dataframe thead th {\n",
              "        text-align: right;\n",
              "    }\n",
              "</style>\n",
              "<table border=\"1\" class=\"dataframe\">\n",
              "  <thead>\n",
              "    <tr style=\"text-align: right;\">\n",
              "      <th></th>\n",
              "      <th>Survived</th>\n",
              "      <th>Pclass</th>\n",
              "      <th>Sex</th>\n",
              "      <th>SibSp</th>\n",
              "      <th>Parch</th>\n",
              "      <th>Fare</th>\n",
              "      <th>male</th>\n",
              "    </tr>\n",
              "  </thead>\n",
              "  <tbody>\n",
              "    <tr>\n",
              "      <th>0</th>\n",
              "      <td>0</td>\n",
              "      <td>3</td>\n",
              "      <td>male</td>\n",
              "      <td>1</td>\n",
              "      <td>0</td>\n",
              "      <td>7.2500</td>\n",
              "      <td>1</td>\n",
              "    </tr>\n",
              "    <tr>\n",
              "      <th>1</th>\n",
              "      <td>1</td>\n",
              "      <td>1</td>\n",
              "      <td>female</td>\n",
              "      <td>1</td>\n",
              "      <td>0</td>\n",
              "      <td>71.2833</td>\n",
              "      <td>0</td>\n",
              "    </tr>\n",
              "    <tr>\n",
              "      <th>2</th>\n",
              "      <td>1</td>\n",
              "      <td>3</td>\n",
              "      <td>female</td>\n",
              "      <td>0</td>\n",
              "      <td>0</td>\n",
              "      <td>7.9250</td>\n",
              "      <td>0</td>\n",
              "    </tr>\n",
              "    <tr>\n",
              "      <th>3</th>\n",
              "      <td>1</td>\n",
              "      <td>1</td>\n",
              "      <td>female</td>\n",
              "      <td>1</td>\n",
              "      <td>0</td>\n",
              "      <td>53.1000</td>\n",
              "      <td>0</td>\n",
              "    </tr>\n",
              "    <tr>\n",
              "      <th>4</th>\n",
              "      <td>0</td>\n",
              "      <td>3</td>\n",
              "      <td>male</td>\n",
              "      <td>0</td>\n",
              "      <td>0</td>\n",
              "      <td>8.0500</td>\n",
              "      <td>1</td>\n",
              "    </tr>\n",
              "  </tbody>\n",
              "</table>\n",
              "</div>"
            ],
            "text/plain": [
              "   Survived  Pclass     Sex  SibSp  Parch     Fare  male\n",
              "0         0       3    male      1      0   7.2500     1\n",
              "1         1       1  female      1      0  71.2833     0\n",
              "2         1       3  female      0      0   7.9250     0\n",
              "3         1       1  female      1      0  53.1000     0\n",
              "4         0       3    male      0      0   8.0500     1"
            ]
          },
          "metadata": {
            "tags": []
          },
          "execution_count": 20
        }
      ]
    },
    {
      "cell_type": "code",
      "metadata": {
        "id": "uCp_Qp_YhWnE"
      },
      "source": [
        "titanic.drop(['Sex'], axis=1, inplace=True)"
      ],
      "execution_count": null,
      "outputs": []
    },
    {
      "cell_type": "code",
      "metadata": {
        "id": "VOdgHBsAhddx",
        "colab": {
          "base_uri": "https://localhost:8080/",
          "height": 425
        },
        "outputId": "82454552-4b68-4888-a41a-e8dd70328f6b"
      },
      "source": [
        "# Let's check the new columns\n",
        "titanic.info()\n",
        "titanic.head()"
      ],
      "execution_count": null,
      "outputs": [
        {
          "output_type": "stream",
          "text": [
            "<class 'pandas.core.frame.DataFrame'>\n",
            "RangeIndex: 891 entries, 0 to 890\n",
            "Data columns (total 6 columns):\n",
            " #   Column    Non-Null Count  Dtype  \n",
            "---  ------    --------------  -----  \n",
            " 0   Survived  891 non-null    int64  \n",
            " 1   Pclass    891 non-null    int64  \n",
            " 2   SibSp     891 non-null    int64  \n",
            " 3   Parch     891 non-null    int64  \n",
            " 4   Fare      891 non-null    float64\n",
            " 5   male      891 non-null    uint8  \n",
            "dtypes: float64(1), int64(4), uint8(1)\n",
            "memory usage: 35.8 KB\n"
          ],
          "name": "stdout"
        },
        {
          "output_type": "execute_result",
          "data": {
            "text/html": [
              "<div>\n",
              "<style scoped>\n",
              "    .dataframe tbody tr th:only-of-type {\n",
              "        vertical-align: middle;\n",
              "    }\n",
              "\n",
              "    .dataframe tbody tr th {\n",
              "        vertical-align: top;\n",
              "    }\n",
              "\n",
              "    .dataframe thead th {\n",
              "        text-align: right;\n",
              "    }\n",
              "</style>\n",
              "<table border=\"1\" class=\"dataframe\">\n",
              "  <thead>\n",
              "    <tr style=\"text-align: right;\">\n",
              "      <th></th>\n",
              "      <th>Survived</th>\n",
              "      <th>Pclass</th>\n",
              "      <th>SibSp</th>\n",
              "      <th>Parch</th>\n",
              "      <th>Fare</th>\n",
              "      <th>male</th>\n",
              "    </tr>\n",
              "  </thead>\n",
              "  <tbody>\n",
              "    <tr>\n",
              "      <th>0</th>\n",
              "      <td>0</td>\n",
              "      <td>3</td>\n",
              "      <td>1</td>\n",
              "      <td>0</td>\n",
              "      <td>7.2500</td>\n",
              "      <td>1</td>\n",
              "    </tr>\n",
              "    <tr>\n",
              "      <th>1</th>\n",
              "      <td>1</td>\n",
              "      <td>1</td>\n",
              "      <td>1</td>\n",
              "      <td>0</td>\n",
              "      <td>71.2833</td>\n",
              "      <td>0</td>\n",
              "    </tr>\n",
              "    <tr>\n",
              "      <th>2</th>\n",
              "      <td>1</td>\n",
              "      <td>3</td>\n",
              "      <td>0</td>\n",
              "      <td>0</td>\n",
              "      <td>7.9250</td>\n",
              "      <td>0</td>\n",
              "    </tr>\n",
              "    <tr>\n",
              "      <th>3</th>\n",
              "      <td>1</td>\n",
              "      <td>1</td>\n",
              "      <td>1</td>\n",
              "      <td>0</td>\n",
              "      <td>53.1000</td>\n",
              "      <td>0</td>\n",
              "    </tr>\n",
              "    <tr>\n",
              "      <th>4</th>\n",
              "      <td>0</td>\n",
              "      <td>3</td>\n",
              "      <td>0</td>\n",
              "      <td>0</td>\n",
              "      <td>8.0500</td>\n",
              "      <td>1</td>\n",
              "    </tr>\n",
              "  </tbody>\n",
              "</table>\n",
              "</div>"
            ],
            "text/plain": [
              "   Survived  Pclass  SibSp  Parch     Fare  male\n",
              "0         0       3      1      0   7.2500     1\n",
              "1         1       1      1      0  71.2833     0\n",
              "2         1       3      0      0   7.9250     0\n",
              "3         1       1      1      0  53.1000     0\n",
              "4         0       3      0      0   8.0500     1"
            ]
          },
          "metadata": {
            "tags": []
          },
          "execution_count": 23
        }
      ]
    },
    {
      "cell_type": "markdown",
      "metadata": {
        "id": "7wR6bliDni8M"
      },
      "source": [
        "Split the data into train and test. Use 20% of the data for our test subset. We will use the train_test_split function from scikit-learn for this."
      ]
    },
    {
      "cell_type": "code",
      "metadata": {
        "id": "VzB9rC4kni8N"
      },
      "source": [
        "# Split the dataset. Remember that the y arrays should include only the 'Survived' column which should be excluded from\n",
        "# the X arrays\n",
        "from sklearn.model_selection import train_test_split\n",
        "\n",
        "X = titanic.drop(['Survived'], axis=1)\n",
        "y = titanic['Survived']\n",
        "\n",
        "X_train, X_test, y_train, y_test = train_test_split(X, y, test_size=0.2)"
      ],
      "execution_count": null,
      "outputs": []
    },
    {
      "cell_type": "markdown",
      "metadata": {
        "id": "T0rFQRHvni8O"
      },
      "source": [
        "Generate a KNN model with k=1 for the dataset. What is the accuracy score for the train and test subsamples?"
      ]
    },
    {
      "cell_type": "code",
      "metadata": {
        "id": "947BjIolni8P",
        "colab": {
          "base_uri": "https://localhost:8080/",
          "height": 51
        },
        "outputId": "f541dd06-a332-48a8-b079-f49436c60ef7"
      },
      "source": [
        "from sklearn.neighbors import KNeighborsClassifier\n",
        "# answer below:\n",
        "neighbors = KNeighborsClassifier(n_neighbors=1)\n",
        "neighbors.fit(X_train, y_train)\n",
        "\n",
        "#accuracy score\n",
        "print('Training accuracy score: {:.4f}'.format(neighbors.score(X_train, y_train)))\n",
        "print('Testing accuracy score: {:.4f}'.format(neighbors.score(X_test, y_test)))"
      ],
      "execution_count": null,
      "outputs": [
        {
          "output_type": "stream",
          "text": [
            "Training accuracy score: 0.9228\n",
            "Testing accuracy score: 0.7318\n"
          ],
          "name": "stdout"
        }
      ]
    },
    {
      "cell_type": "markdown",
      "metadata": {
        "id": "lKfx59-Hni8S"
      },
      "source": [
        "Would you say the model overfits? Why or why not? Put your answer in the comment below."
      ]
    },
    {
      "cell_type": "code",
      "metadata": {
        "id": "Lxdoh4dZni8S"
      },
      "source": [
        "# answer below:\n",
        "#I would say that it overfits because the training score is .20 higher than the testing score.\n"
      ],
      "execution_count": null,
      "outputs": []
    },
    {
      "cell_type": "markdown",
      "metadata": {
        "id": "0P6bHOPOni8U"
      },
      "source": [
        "Let's optimize k. A good idea is to create plots that depict train and test accuracy for each candidate k. Since we have 2 classes, we will be selecting odd numbers in order to deal with possible ties. By selecting a really small k, e.g. k=1, we increase variance and the model is prone to overfitting since it will only take into account the nearest neighbor where there could be a lot of other close samples belonging to another class. By doing the opposite, selecting a big k we are prone to underfitting, as we increase bias as there is a higher probability to select the majority class.\n"
      ]
    },
    {
      "cell_type": "code",
      "metadata": {
        "id": "S0WEG25bni8U"
      },
      "source": [
        "from sklearn.metrics import accuracy_score, f1_score\n",
        "\n",
        "accuracy_train = []\n",
        "accuracy_test = []\n",
        "f1_train = []\n",
        "f1_test = []\n",
        "k_list = range(1, 15, 2)\n"
      ],
      "execution_count": null,
      "outputs": []
    },
    {
      "cell_type": "markdown",
      "metadata": {
        "id": "TaFOfaUBvuOI"
      },
      "source": [
        "For each k value in the list created above we want to create and fit a knn instance on X_train, y_train and then make predictions both on the training set (X_train) as well as on the test set(X_test) and calculate accuracy and f1 score and append it to the corrensponding list."
      ]
    },
    {
      "cell_type": "code",
      "metadata": {
        "id": "tCGDJ4K5vuOJ",
        "colab": {
          "base_uri": "https://localhost:8080/",
          "height": 122
        },
        "outputId": "b08ad21c-3809-47e4-f1be-47a3860c781f"
      },
      "source": [
        "# answer below:\n",
        "for x in k_list:\n",
        "  neighbors = KNeighborsClassifier(n_neighbors=x)\n",
        "  neighbors.fit(X_train, y_train)\n",
        "  accuracy_train.append(neighbors.score(X_train, y_train))\n",
        "  accuracy_test.append(neighbors.score(X_test, y_test))\n",
        "  f1_train.append(f1_score(y_train, neighbors.predict(X_train)))\n",
        "  f1_test.append(f1_score(y_test, neighbors.predict(X_test)))\n",
        "\n",
        "print('Training score:', accuracy_train)\n",
        "print('Test score:', accuracy_test)\n",
        "print()\n",
        "print('F1 train score:', f1_train)\n",
        "print('F1 test score:', f1_test)"
      ],
      "execution_count": null,
      "outputs": [
        {
          "output_type": "stream",
          "text": [
            "Training score: [0.922752808988764, 0.8679775280898876, 0.8300561797752809, 0.8117977528089888, 0.8033707865168539, 0.7949438202247191, 0.7893258426966292]\n",
            "Test score: [0.7318435754189944, 0.7821229050279329, 0.7877094972067039, 0.7653631284916201, 0.7374301675977654, 0.7150837988826816, 0.7150837988826816]\n",
            "\n",
            "F1 train score: [0.8983364140480591, 0.825925925925926, 0.7771639042357275, 0.7624113475177304, 0.7445255474452556, 0.7286245353159851, 0.7159090909090908]\n",
            "F1 test score: [0.6363636363636364, 0.706766917293233, 0.7164179104477612, 0.6956521739130436, 0.6569343065693432, 0.6330935251798561, 0.6165413533834587]\n"
          ],
          "name": "stdout"
        }
      ]
    },
    {
      "cell_type": "markdown",
      "metadata": {
        "id": "JlnKcCBWvuOL"
      },
      "source": [
        "In the following plot we want to select the k that achieves the highest test score. \n",
        "\n",
        "Create a two plots with each of them depicting the following information:\n",
        "1. Two lines, one for training accuracy and one for test accuracy for each k value.\n",
        "2. Two lines, one for training F1score and one for test F1 score for each k value."
      ]
    },
    {
      "cell_type": "code",
      "metadata": {
        "id": "lxex9RjSvuOL",
        "colab": {
          "base_uri": "https://localhost:8080/",
          "height": 295
        },
        "outputId": "d151011c-7812-4cb2-9436-346af03f64ba"
      },
      "source": [
        "# answer below:\n",
        "#plot for accuracy\n",
        "plt.plot(k_list, accuracy_train, label='train accuracy')\n",
        "plt.plot(k_list, accuracy_test, label='test accuracy')\n",
        "plt.xlabel('k')\n",
        "plt.ylabel('accuracy')\n",
        "plt.title('Accuracy scores for k value')\n",
        "plt.legend()\n",
        "plt.show()\n"
      ],
      "execution_count": null,
      "outputs": [
        {
          "output_type": "display_data",
          "data": {
            "image/png": "[encoded data removed]",
            "text/plain": [
              "<Figure size 432x288 with 1 Axes>"
            ]
          },
          "metadata": {
            "tags": [],
            "needs_background": "light"
          }
        }
      ]
    },
    {
      "cell_type": "code",
      "metadata": {
        "id": "MzawyhzhrJBv",
        "colab": {
          "base_uri": "https://localhost:8080/",
          "height": 295
        },
        "outputId": "26071050-8191-47d9-f669-82055b153125"
      },
      "source": [
        "#plot for f1 scores\n",
        "plt.plot(k_list, f1_train, label='f1 train score')\n",
        "plt.plot(k_list, f1_test, label='f1 test score')\n",
        "plt.xlabel('k')\n",
        "plt.ylabel('f1 scores')\n",
        "plt.title('F1 scores for k value')\n",
        "plt.legend()\n",
        "plt.show()"
      ],
      "execution_count": null,
      "outputs": [
        {
          "output_type": "display_data",
          "data": {
            "image/png": "[encoded data removed]",
            "text/plain": [
              "<Figure size 432x288 with 1 Axes>"
            ]
          },
          "metadata": {
            "tags": [],
            "needs_background": "light"
          }
        }
      ]
    },
    {
      "cell_type": "markdown",
      "metadata": {
        "id": "Bs-_v9vVvuOP"
      },
      "source": [
        "Please comment the results of the plots above"
      ]
    },
    {
      "cell_type": "code",
      "metadata": {
        "id": "L5xK-UfVvuOP"
      },
      "source": [
        "# Add your observations in comments below.\n",
        "\n",
        "# so it seems that the best K value for our predictions would be n_neighbors=5\n",
        "# at k=5 there is a smallest difference between the training set and the test set \n",
        "#before the lines decrease too much leaving our predictions to be underfitting"
      ],
      "execution_count": null,
      "outputs": []
    }
  ]
}
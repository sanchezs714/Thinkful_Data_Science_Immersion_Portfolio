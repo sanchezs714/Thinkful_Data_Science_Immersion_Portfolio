{
  "nbformat": 4,
  "nbformat_minor": 0,
  "metadata": {
    "colab": {
      "name": "Day13_L1_Assignment.ipynb",
      "provenance": [],
      "collapsed_sections": []
    },
    "kernelspec": {
      "name": "python3",
      "display_name": "Python 3"
    },
    "language_info": {
      "name": "python"
    }
  },
  "cells": [
    {
      "cell_type": "markdown",
      "metadata": {
        "id": "B43zVUKRFkNb"
      },
      "source": [
        "The data comes from a longitudinal study of lung tomography measurements of different groups of patients.\n",
        "\n",
        "Download at https://tf-assets-prod.s3.amazonaws.com/tf-curric/data-science/lung-volume.csv\n",
        "\n",
        "* For each group, is there a significant difference between time 1 and time 2?\n",
        "* Is there a significant difference in the mean of all groups at time 2?\n"
      ]
    },
    {
      "cell_type": "code",
      "metadata": {
        "id": "-wgHRjQeFewf"
      },
      "source": [
        "%matplotlib inline\n",
        "import pandas as pd\n",
        "import numpy as np\n",
        "import matplotlib.pyplot as plt\n",
        "from scipy import stats\n",
        "import seaborn as sns"
      ],
      "execution_count": 1,
      "outputs": []
    },
    {
      "cell_type": "code",
      "metadata": {
        "colab": {
          "base_uri": "https://localhost:8080/",
          "height": 204
        },
        "id": "aet2sq5NF1Mb",
        "outputId": "dd3f2326-d0e0-481e-fe94-abafb68fd505"
      },
      "source": [
        "df = pd.read_csv('https://tf-assets-prod.s3.amazonaws.com/tf-curric/data-science/lung-volume.csv')\n",
        "df.head()"
      ],
      "execution_count": 2,
      "outputs": [
        {
          "output_type": "execute_result",
          "data": {
            "text/html": [
              "<div>\n",
              "<style scoped>\n",
              "    .dataframe tbody tr th:only-of-type {\n",
              "        vertical-align: middle;\n",
              "    }\n",
              "\n",
              "    .dataframe tbody tr th {\n",
              "        vertical-align: top;\n",
              "    }\n",
              "\n",
              "    .dataframe thead th {\n",
              "        text-align: right;\n",
              "    }\n",
              "</style>\n",
              "<table border=\"1\" class=\"dataframe\">\n",
              "  <thead>\n",
              "    <tr style=\"text-align: right;\">\n",
              "      <th></th>\n",
              "      <th>group</th>\n",
              "      <th>patient</th>\n",
              "      <th>t1</th>\n",
              "      <th>t2</th>\n",
              "    </tr>\n",
              "  </thead>\n",
              "  <tbody>\n",
              "    <tr>\n",
              "      <th>0</th>\n",
              "      <td>1</td>\n",
              "      <td>1-1</td>\n",
              "      <td>4226</td>\n",
              "      <td>4497</td>\n",
              "    </tr>\n",
              "    <tr>\n",
              "      <th>1</th>\n",
              "      <td>1</td>\n",
              "      <td>1-2</td>\n",
              "      <td>5731</td>\n",
              "      <td>5665</td>\n",
              "    </tr>\n",
              "    <tr>\n",
              "      <th>2</th>\n",
              "      <td>1</td>\n",
              "      <td>1-3</td>\n",
              "      <td>3912</td>\n",
              "      <td>4505</td>\n",
              "    </tr>\n",
              "    <tr>\n",
              "      <th>3</th>\n",
              "      <td>1</td>\n",
              "      <td>1-4</td>\n",
              "      <td>4811</td>\n",
              "      <td>6472</td>\n",
              "    </tr>\n",
              "    <tr>\n",
              "      <th>4</th>\n",
              "      <td>1</td>\n",
              "      <td>1-5</td>\n",
              "      <td>5128</td>\n",
              "      <td>4710</td>\n",
              "    </tr>\n",
              "  </tbody>\n",
              "</table>\n",
              "</div>"
            ],
            "text/plain": [
              "   group patient    t1    t2\n",
              "0      1     1-1  4226  4497\n",
              "1      1     1-2  5731  5665\n",
              "2      1     1-3  3912  4505\n",
              "3      1     1-4  4811  6472\n",
              "4      1     1-5  5128  4710"
            ]
          },
          "metadata": {
            "tags": []
          },
          "execution_count": 2
        }
      ]
    },
    {
      "cell_type": "code",
      "metadata": {
        "colab": {
          "base_uri": "https://localhost:8080/"
        },
        "id": "mmDXQU1iGKIk",
        "outputId": "480832a6-86a8-4681-e93d-c499a8821e5b"
      },
      "source": [
        "df['group'].unique()"
      ],
      "execution_count": 3,
      "outputs": [
        {
          "output_type": "execute_result",
          "data": {
            "text/plain": [
              "array([1, 2, 3])"
            ]
          },
          "metadata": {
            "tags": []
          },
          "execution_count": 3
        }
      ]
    },
    {
      "cell_type": "code",
      "metadata": {
        "colab": {
          "base_uri": "https://localhost:8080/"
        },
        "id": "U9Nc5BvAGM2H",
        "outputId": "a4bd1b94-86b7-4281-a218-0132d2275f4d"
      },
      "source": [
        "df.shape"
      ],
      "execution_count": 4,
      "outputs": [
        {
          "output_type": "execute_result",
          "data": {
            "text/plain": [
              "(400, 4)"
            ]
          },
          "metadata": {
            "tags": []
          },
          "execution_count": 4
        }
      ]
    },
    {
      "cell_type": "code",
      "metadata": {
        "colab": {
          "base_uri": "https://localhost:8080/",
          "height": 297
        },
        "id": "RpFwMMdAGOgb",
        "outputId": "f720b849-97af-431a-ebdb-7f89c3d7a693"
      },
      "source": [
        "df.describe()"
      ],
      "execution_count": 5,
      "outputs": [
        {
          "output_type": "execute_result",
          "data": {
            "text/html": [
              "<div>\n",
              "<style scoped>\n",
              "    .dataframe tbody tr th:only-of-type {\n",
              "        vertical-align: middle;\n",
              "    }\n",
              "\n",
              "    .dataframe tbody tr th {\n",
              "        vertical-align: top;\n",
              "    }\n",
              "\n",
              "    .dataframe thead th {\n",
              "        text-align: right;\n",
              "    }\n",
              "</style>\n",
              "<table border=\"1\" class=\"dataframe\">\n",
              "  <thead>\n",
              "    <tr style=\"text-align: right;\">\n",
              "      <th></th>\n",
              "      <th>group</th>\n",
              "      <th>t1</th>\n",
              "      <th>t2</th>\n",
              "    </tr>\n",
              "  </thead>\n",
              "  <tbody>\n",
              "    <tr>\n",
              "      <th>count</th>\n",
              "      <td>400.000000</td>\n",
              "      <td>400.000000</td>\n",
              "      <td>400.000000</td>\n",
              "    </tr>\n",
              "    <tr>\n",
              "      <th>mean</th>\n",
              "      <td>1.750000</td>\n",
              "      <td>4235.997500</td>\n",
              "      <td>4229.355000</td>\n",
              "    </tr>\n",
              "    <tr>\n",
              "      <th>std</th>\n",
              "      <td>0.830195</td>\n",
              "      <td>1199.452175</td>\n",
              "      <td>1185.222621</td>\n",
              "    </tr>\n",
              "    <tr>\n",
              "      <th>min</th>\n",
              "      <td>1.000000</td>\n",
              "      <td>1178.000000</td>\n",
              "      <td>1241.000000</td>\n",
              "    </tr>\n",
              "    <tr>\n",
              "      <th>25%</th>\n",
              "      <td>1.000000</td>\n",
              "      <td>3448.250000</td>\n",
              "      <td>3396.750000</td>\n",
              "    </tr>\n",
              "    <tr>\n",
              "      <th>50%</th>\n",
              "      <td>1.500000</td>\n",
              "      <td>4180.000000</td>\n",
              "      <td>4244.500000</td>\n",
              "    </tr>\n",
              "    <tr>\n",
              "      <th>75%</th>\n",
              "      <td>2.250000</td>\n",
              "      <td>5061.500000</td>\n",
              "      <td>5078.500000</td>\n",
              "    </tr>\n",
              "    <tr>\n",
              "      <th>max</th>\n",
              "      <td>3.000000</td>\n",
              "      <td>7646.000000</td>\n",
              "      <td>7430.000000</td>\n",
              "    </tr>\n",
              "  </tbody>\n",
              "</table>\n",
              "</div>"
            ],
            "text/plain": [
              "            group           t1           t2\n",
              "count  400.000000   400.000000   400.000000\n",
              "mean     1.750000  4235.997500  4229.355000\n",
              "std      0.830195  1199.452175  1185.222621\n",
              "min      1.000000  1178.000000  1241.000000\n",
              "25%      1.000000  3448.250000  3396.750000\n",
              "50%      1.500000  4180.000000  4244.500000\n",
              "75%      2.250000  5061.500000  5078.500000\n",
              "max      3.000000  7646.000000  7430.000000"
            ]
          },
          "metadata": {
            "tags": []
          },
          "execution_count": 5
        }
      ]
    },
    {
      "cell_type": "code",
      "metadata": {
        "colab": {
          "base_uri": "https://localhost:8080/"
        },
        "id": "JZIRCY9FGPkD",
        "outputId": "43afc66c-20c7-479f-9baf-6e9e576bc9bd"
      },
      "source": [
        "df.isnull().sum()"
      ],
      "execution_count": 6,
      "outputs": [
        {
          "output_type": "execute_result",
          "data": {
            "text/plain": [
              "group      0\n",
              "patient    0\n",
              "t1         0\n",
              "t2         0\n",
              "dtype: int64"
            ]
          },
          "metadata": {
            "tags": []
          },
          "execution_count": 6
        }
      ]
    },
    {
      "cell_type": "code",
      "metadata": {
        "id": "2K0foKKLGkuQ"
      },
      "source": [
        "group_1 = df[df['group'] == 1]\n",
        "group_2 = df[df['group'] == 2]\n",
        "group_3 = df[df['group'] == 3]"
      ],
      "execution_count": 8,
      "outputs": []
    },
    {
      "cell_type": "code",
      "metadata": {
        "colab": {
          "base_uri": "https://localhost:8080/"
        },
        "id": "636jwMQgGSJt",
        "outputId": "2760f852-9ec3-43aa-a832-e915f23aef1b"
      },
      "source": [
        "print('shapiro time 1, group 1:', stats.shapiro(group_1['t1']))\n",
        "print('shapiro time 2, group 1:', stats.shapiro(group_1['t2']))\n",
        "\n",
        "print('shapiro time 1, group 2:', stats.shapiro(group_2['t1']))\n",
        "print('shapiro time 2, group 2:', stats.shapiro(group_2['t1']))\n",
        "\n",
        "print('shapiro time 1, group 3:', stats.shapiro(group_3['t1']))\n",
        "print('shapiro time 2, group 3:', stats.shapiro(group_3['t1']))"
      ],
      "execution_count": 12,
      "outputs": [
        {
          "output_type": "stream",
          "text": [
            "shapiro time 1, group 1: (0.9932351112365723, 0.4915737509727478)\n",
            "shapiro time 2, group 1: (0.9955824613571167, 0.8313238024711609)\n",
            "shapiro time 1, group 2: (0.994020402431488, 0.9413013458251953)\n",
            "shapiro time 2, group 2: (0.994020402431488, 0.9413013458251953)\n",
            "shapiro time 1, group 3: (0.9901381731033325, 0.675767183303833)\n",
            "shapiro time 2, group 3: (0.9901381731033325, 0.675767183303833)\n"
          ],
          "name": "stdout"
        }
      ]
    },
    {
      "cell_type": "code",
      "metadata": {
        "colab": {
          "base_uri": "https://localhost:8080/",
          "height": 296
        },
        "id": "n71a3-G6GtNR",
        "outputId": "f9adf322-08c1-476a-c4a7-bca487704255"
      },
      "source": [
        "sns.violinplot(x=df['group'], y=df['t1'])"
      ],
      "execution_count": 13,
      "outputs": [
        {
          "output_type": "execute_result",
          "data": {
            "text/plain": [
              "<matplotlib.axes._subplots.AxesSubplot at 0x7fd8ea82d2d0>"
            ]
          },
          "metadata": {
            "tags": []
          },
          "execution_count": 13
        },
        {
          "output_type": "display_data",
          "data": {
            "image/png": "[encoded data removed]",
            "text/plain": [
              "<Figure size 432x288 with 1 Axes>"
            ]
          },
          "metadata": {
            "tags": [],
            "needs_background": "light"
          }
        }
      ]
    },
    {
      "cell_type": "code",
      "metadata": {
        "colab": {
          "base_uri": "https://localhost:8080/",
          "height": 296
        },
        "id": "MIxsME2HG0sb",
        "outputId": "68749ba1-9857-45ca-9882-66669e199058"
      },
      "source": [
        "sns.violinplot(x=df['group'], y=df['t2'])"
      ],
      "execution_count": 14,
      "outputs": [
        {
          "output_type": "execute_result",
          "data": {
            "text/plain": [
              "<matplotlib.axes._subplots.AxesSubplot at 0x7fd8e8285f10>"
            ]
          },
          "metadata": {
            "tags": []
          },
          "execution_count": 14
        },
        {
          "output_type": "display_data",
          "data": {
            "image/png": "[encoded data removed]",
            "text/plain": [
              "<Figure size 432x288 with 1 Axes>"
            ]
          },
          "metadata": {
            "tags": [],
            "needs_background": "light"
          }
        }
      ]
    },
    {
      "cell_type": "code",
      "metadata": {
        "colab": {
          "base_uri": "https://localhost:8080/"
        },
        "id": "__dHSfiqG4Wm",
        "outputId": "e2ef3dd3-538a-4e8a-cf73-f0474b1eef4f"
      },
      "source": [
        "stats.f_oneway(group_1['t1'], group_2['t1'], group_3['t1'])"
      ],
      "execution_count": 16,
      "outputs": [
        {
          "output_type": "execute_result",
          "data": {
            "text/plain": [
              "F_onewayResult(statistic=60.93469001386441, pvalue=8.33478034509647e-24)"
            ]
          },
          "metadata": {
            "tags": []
          },
          "execution_count": 16
        }
      ]
    },
    {
      "cell_type": "code",
      "metadata": {
        "colab": {
          "base_uri": "https://localhost:8080/"
        },
        "id": "woeKSF_gHAu6",
        "outputId": "6be7e1b8-3f6f-4bc7-8a15-a513e2ff5bfd"
      },
      "source": [
        "stats.f_oneway(group_1['t2'], group_2['t2'], group_3['t2'])"
      ],
      "execution_count": 17,
      "outputs": [
        {
          "output_type": "execute_result",
          "data": {
            "text/plain": [
              "F_onewayResult(statistic=67.65846945026495, pvalue=5.1893599904179e-26)"
            ]
          },
          "metadata": {
            "tags": []
          },
          "execution_count": 17
        }
      ]
    },
    {
      "cell_type": "code",
      "metadata": {
        "colab": {
          "base_uri": "https://localhost:8080/"
        },
        "id": "NcK65jSjHJgF",
        "outputId": "7efbed24-2951-4d1b-d30a-9ae1cbe893ef"
      },
      "source": [
        "stats.ttest_rel(group_1['t1'], group_1['t2'])"
      ],
      "execution_count": 18,
      "outputs": [
        {
          "output_type": "execute_result",
          "data": {
            "text/plain": [
              "Ttest_relResult(statistic=-0.31827677584963787, pvalue=0.7506087664956842)"
            ]
          },
          "metadata": {
            "tags": []
          },
          "execution_count": 18
        }
      ]
    },
    {
      "cell_type": "code",
      "metadata": {
        "colab": {
          "base_uri": "https://localhost:8080/"
        },
        "id": "eGuCcUJXHO5B",
        "outputId": "f321da1c-44ec-4dac-e4ee-bba22444dcf4"
      },
      "source": [
        "stats.ttest_rel(group_2['t1'], group_2['t2'])"
      ],
      "execution_count": 19,
      "outputs": [
        {
          "output_type": "execute_result",
          "data": {
            "text/plain": [
              "Ttest_relResult(statistic=0.32745622415118286, pvalue=0.7440142766032991)"
            ]
          },
          "metadata": {
            "tags": []
          },
          "execution_count": 19
        }
      ]
    },
    {
      "cell_type": "code",
      "metadata": {
        "colab": {
          "base_uri": "https://localhost:8080/"
        },
        "id": "866HNHChHRp8",
        "outputId": "eeb6ba9a-581c-4ae8-f5ed-e0af0965d14c"
      },
      "source": [
        "stats.ttest_rel(group_3['t1'], group_3['t2'])"
      ],
      "execution_count": 20,
      "outputs": [
        {
          "output_type": "execute_result",
          "data": {
            "text/plain": [
              "Ttest_relResult(statistic=0.8984773127301627, pvalue=0.37111115842334486)"
            ]
          },
          "metadata": {
            "tags": []
          },
          "execution_count": 20
        }
      ]
    },
    {
      "cell_type": "code",
      "metadata": {
        "colab": {
          "base_uri": "https://localhost:8080/",
          "height": 120
        },
        "id": "ceATST7yHUOf",
        "outputId": "a6d3085b-e04f-4977-97c8-c9143a6e4d61"
      },
      "source": [
        "from statsmodels.stats.multicomp import pairwise_tukeyhsd\n",
        "\n",
        "tukey = pairwise_tukeyhsd(endog = df['t2'],\n",
        "                          groups = df['group'],\n",
        "                          alpha=0.05)\n",
        "tukey.summary()"
      ],
      "execution_count": 21,
      "outputs": [
        {
          "output_type": "execute_result",
          "data": {
            "text/html": [
              "<table class=\"simpletable\">\n",
              "<caption>Multiple Comparison of Means - Tukey HSD, FWER=0.05</caption>\n",
              "<tr>\n",
              "  <th>group1</th> <th>group2</th> <th>meandiff</th>   <th>p-adj</th>    <th>lower</th>      <th>upper</th>   <th>reject</th>\n",
              "</tr>\n",
              "<tr>\n",
              "     <td>1</td>      <td>2</td>    <td>99.705</td>   <td>0.6902</td>  <td>-195.9612</td>  <td>395.3712</td>   <td>False</td>\n",
              "</tr>\n",
              "<tr>\n",
              "     <td>1</td>      <td>3</td>   <td>-1341.865</td>  <td>0.001</td> <td>-1637.5312</td> <td>-1046.1988</td>  <td>True</td> \n",
              "</tr>\n",
              "<tr>\n",
              "     <td>2</td>      <td>3</td>   <td>-1441.57</td>   <td>0.001</td> <td>-1782.9759</td> <td>-1100.1641</td>  <td>True</td> \n",
              "</tr>\n",
              "</table>"
            ],
            "text/plain": [
              "<class 'statsmodels.iolib.table.SimpleTable'>"
            ]
          },
          "metadata": {
            "tags": []
          },
          "execution_count": 21
        }
      ]
    },
    {
      "cell_type": "markdown",
      "metadata": {
        "id": "TE66uXDGHnZH"
      },
      "source": [
        "For each group, is there a significant difference between time 1 and time 2?\n",
        "\n",
        "    According to the ANOVA test, we can say that there was no statistical significance in the difference between the means for each group for time 1 and time 2.\n",
        "\n",
        "Is there a significant difference in the mean of all groups at time 2?\n",
        "\n",
        "    According to the violin plot and the Tukey test, there is a significant difference between group 3 and the other groups. However, there is no significant difference between group 1 and group 2."
      ]
    },
    {
      "cell_type": "code",
      "metadata": {
        "id": "FqXrNhqQHi-n"
      },
      "source": [
        ""
      ],
      "execution_count": null,
      "outputs": []
    }
  ]
}
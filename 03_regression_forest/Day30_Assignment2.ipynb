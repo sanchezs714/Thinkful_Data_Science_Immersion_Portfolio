{
 "cells": [
  {
   "cell_type": "markdown",
   "metadata": {
    "id": "efE6LIYgdWi-"
   },
   "source": [
    "## Day 30 Lecture 2 Assignment\n",
    "\n",
    "In this assignment, we will learn about random forests. We will use the google play store dataset loaded below."
   ]
  },
  {
   "cell_type": "code",
   "execution_count": 1,
   "metadata": {
    "id": "ABJ7i-pDdWi_"
   },
   "outputs": [],
   "source": [
    "%matplotlib inline\n",
    "\n",
    "import matplotlib.pyplot as plt\n",
    "import numpy as np\n",
    "import pandas as pd"
   ]
  },
  {
   "cell_type": "code",
   "execution_count": 2,
   "metadata": {
    "colab": {
     "base_uri": "https://localhost:8080/",
     "height": 564
    },
    "id": "1VRsPLisdWjB",
    "outputId": "ed23f5bd-8089-4784-824a-14bc5e442d38"
   },
   "outputs": [
    {
     "data": {
      "text/html": [
       "<div>\n",
       "<style scoped>\n",
       "    .dataframe tbody tr th:only-of-type {\n",
       "        vertical-align: middle;\n",
       "    }\n",
       "\n",
       "    .dataframe tbody tr th {\n",
       "        vertical-align: top;\n",
       "    }\n",
       "\n",
       "    .dataframe thead th {\n",
       "        text-align: right;\n",
       "    }\n",
       "</style>\n",
       "<table border=\"1\" class=\"dataframe\">\n",
       "  <thead>\n",
       "    <tr style=\"text-align: right;\">\n",
       "      <th></th>\n",
       "      <th>App</th>\n",
       "      <th>Category</th>\n",
       "      <th>Rating</th>\n",
       "      <th>Reviews</th>\n",
       "      <th>Size</th>\n",
       "      <th>Installs</th>\n",
       "      <th>Type</th>\n",
       "      <th>Price</th>\n",
       "      <th>Content Rating</th>\n",
       "      <th>Genres</th>\n",
       "      <th>Last Updated</th>\n",
       "      <th>Current Ver</th>\n",
       "      <th>Android Ver</th>\n",
       "    </tr>\n",
       "  </thead>\n",
       "  <tbody>\n",
       "    <tr>\n",
       "      <th>0</th>\n",
       "      <td>Photo Editor &amp; Candy Camera &amp; Grid &amp; ScrapBook</td>\n",
       "      <td>ART_AND_DESIGN</td>\n",
       "      <td>4.1</td>\n",
       "      <td>159</td>\n",
       "      <td>19M</td>\n",
       "      <td>10,000+</td>\n",
       "      <td>Free</td>\n",
       "      <td>0</td>\n",
       "      <td>Everyone</td>\n",
       "      <td>Art &amp; Design</td>\n",
       "      <td>January 7, 2018</td>\n",
       "      <td>1.0.0</td>\n",
       "      <td>4.0.3 and up</td>\n",
       "    </tr>\n",
       "    <tr>\n",
       "      <th>1</th>\n",
       "      <td>Coloring book moana</td>\n",
       "      <td>ART_AND_DESIGN</td>\n",
       "      <td>3.9</td>\n",
       "      <td>967</td>\n",
       "      <td>14M</td>\n",
       "      <td>500,000+</td>\n",
       "      <td>Free</td>\n",
       "      <td>0</td>\n",
       "      <td>Everyone</td>\n",
       "      <td>Art &amp; Design;Pretend Play</td>\n",
       "      <td>January 15, 2018</td>\n",
       "      <td>2.0.0</td>\n",
       "      <td>4.0.3 and up</td>\n",
       "    </tr>\n",
       "    <tr>\n",
       "      <th>2</th>\n",
       "      <td>U Launcher Lite – FREE Live Cool Themes, Hide ...</td>\n",
       "      <td>ART_AND_DESIGN</td>\n",
       "      <td>4.7</td>\n",
       "      <td>87510</td>\n",
       "      <td>8.7M</td>\n",
       "      <td>5,000,000+</td>\n",
       "      <td>Free</td>\n",
       "      <td>0</td>\n",
       "      <td>Everyone</td>\n",
       "      <td>Art &amp; Design</td>\n",
       "      <td>August 1, 2018</td>\n",
       "      <td>1.2.4</td>\n",
       "      <td>4.0.3 and up</td>\n",
       "    </tr>\n",
       "    <tr>\n",
       "      <th>3</th>\n",
       "      <td>Sketch - Draw &amp; Paint</td>\n",
       "      <td>ART_AND_DESIGN</td>\n",
       "      <td>4.5</td>\n",
       "      <td>215644</td>\n",
       "      <td>25M</td>\n",
       "      <td>50,000,000+</td>\n",
       "      <td>Free</td>\n",
       "      <td>0</td>\n",
       "      <td>Teen</td>\n",
       "      <td>Art &amp; Design</td>\n",
       "      <td>June 8, 2018</td>\n",
       "      <td>Varies with device</td>\n",
       "      <td>4.2 and up</td>\n",
       "    </tr>\n",
       "    <tr>\n",
       "      <th>4</th>\n",
       "      <td>Pixel Draw - Number Art Coloring Book</td>\n",
       "      <td>ART_AND_DESIGN</td>\n",
       "      <td>4.3</td>\n",
       "      <td>967</td>\n",
       "      <td>2.8M</td>\n",
       "      <td>100,000+</td>\n",
       "      <td>Free</td>\n",
       "      <td>0</td>\n",
       "      <td>Everyone</td>\n",
       "      <td>Art &amp; Design;Creativity</td>\n",
       "      <td>June 20, 2018</td>\n",
       "      <td>1.1</td>\n",
       "      <td>4.4 and up</td>\n",
       "    </tr>\n",
       "  </tbody>\n",
       "</table>\n",
       "</div>"
      ],
      "text/plain": [
       "                                                 App        Category  Rating  \\\n",
       "0     Photo Editor & Candy Camera & Grid & ScrapBook  ART_AND_DESIGN     4.1   \n",
       "1                                Coloring book moana  ART_AND_DESIGN     3.9   \n",
       "2  U Launcher Lite – FREE Live Cool Themes, Hide ...  ART_AND_DESIGN     4.7   \n",
       "3                              Sketch - Draw & Paint  ART_AND_DESIGN     4.5   \n",
       "4              Pixel Draw - Number Art Coloring Book  ART_AND_DESIGN     4.3   \n",
       "\n",
       "  Reviews  Size     Installs  Type Price Content Rating  \\\n",
       "0     159   19M      10,000+  Free     0       Everyone   \n",
       "1     967   14M     500,000+  Free     0       Everyone   \n",
       "2   87510  8.7M   5,000,000+  Free     0       Everyone   \n",
       "3  215644   25M  50,000,000+  Free     0           Teen   \n",
       "4     967  2.8M     100,000+  Free     0       Everyone   \n",
       "\n",
       "                      Genres      Last Updated         Current Ver  \\\n",
       "0               Art & Design   January 7, 2018               1.0.0   \n",
       "1  Art & Design;Pretend Play  January 15, 2018               2.0.0   \n",
       "2               Art & Design    August 1, 2018               1.2.4   \n",
       "3               Art & Design      June 8, 2018  Varies with device   \n",
       "4    Art & Design;Creativity     June 20, 2018                 1.1   \n",
       "\n",
       "    Android Ver  \n",
       "0  4.0.3 and up  \n",
       "1  4.0.3 and up  \n",
       "2  4.0.3 and up  \n",
       "3    4.2 and up  \n",
       "4    4.4 and up  "
      ]
     },
     "execution_count": 2,
     "metadata": {},
     "output_type": "execute_result"
    }
   ],
   "source": [
    "reviews = pd.read_csv('https://tf-assets-prod.s3.amazonaws.com/tf-curric/data-science/googleplaystore.csv')\n",
    "\n",
    "reviews.head()"
   ]
  },
  {
   "cell_type": "markdown",
   "metadata": {
    "id": "NnW2veF7dWjD"
   },
   "source": [
    "In this assignment, you will work more independently. Perform the following steps:\n",
    "    \n",
    "1. Select which columns are best suited to predict whether the rating is above 4.5\n",
    "2. Process the data (including transforming to the correct column type, removing missing values, creating dummy variables, and removing irrelevant variables)\n",
    "3. Create a random forest model and evaluate\n",
    "4. Using grid search cross validation, tweak the parameters to produce a better performing model\n",
    "5. Show and discuss your results\n",
    "\n",
    "Good luck!"
   ]
  },
  {
   "cell_type": "code",
   "execution_count": 3,
   "metadata": {
    "id": "QDyK2JXUdWjD"
   },
   "outputs": [],
   "source": [
    "#new column stating wether App is best or not best based on rating > 4.5\n",
    "# example fifa['RankingTier'] = fifa['Overall'].apply(lambda x: 'High' if x > 75 else ('Low' if x < 65 else 'Middle'))\n",
    "reviews['New Rating'] = reviews['Rating'].apply(lambda x: 1 if x > 4.5 else 0)\n"
   ]
  },
  {
   "cell_type": "code",
   "execution_count": 4,
   "metadata": {
    "colab": {
     "base_uri": "https://localhost:8080/",
     "height": 34
    },
    "id": "d07WIpmHC4vB",
    "outputId": "54ef1235-d81c-4304-bfb2-746ed0820b7e"
   },
   "outputs": [
    {
     "data": {
      "text/plain": [
       "34"
      ]
     },
     "execution_count": 4,
     "metadata": {},
     "output_type": "execute_result"
    }
   ],
   "source": [
    "reviews['Category'].nunique()"
   ]
  },
  {
   "cell_type": "code",
   "execution_count": 5,
   "metadata": {
    "colab": {
     "base_uri": "https://localhost:8080/",
     "height": 204
    },
    "id": "UXZ01986D1xs",
    "outputId": "67d2bf29-976a-4c56-beb4-3bf2c70451ec"
   },
   "outputs": [
    {
     "data": {
      "text/html": [
       "<div>\n",
       "<style scoped>\n",
       "    .dataframe tbody tr th:only-of-type {\n",
       "        vertical-align: middle;\n",
       "    }\n",
       "\n",
       "    .dataframe tbody tr th {\n",
       "        vertical-align: top;\n",
       "    }\n",
       "\n",
       "    .dataframe thead th {\n",
       "        text-align: right;\n",
       "    }\n",
       "</style>\n",
       "<table border=\"1\" class=\"dataframe\">\n",
       "  <thead>\n",
       "    <tr style=\"text-align: right;\">\n",
       "      <th></th>\n",
       "      <th>New Rating</th>\n",
       "      <th>Category</th>\n",
       "      <th>Reviews</th>\n",
       "      <th>Type</th>\n",
       "      <th>Price</th>\n",
       "      <th>Content Rating</th>\n",
       "    </tr>\n",
       "  </thead>\n",
       "  <tbody>\n",
       "    <tr>\n",
       "      <th>0</th>\n",
       "      <td>0</td>\n",
       "      <td>ART_AND_DESIGN</td>\n",
       "      <td>159</td>\n",
       "      <td>Free</td>\n",
       "      <td>0</td>\n",
       "      <td>Everyone</td>\n",
       "    </tr>\n",
       "    <tr>\n",
       "      <th>1</th>\n",
       "      <td>0</td>\n",
       "      <td>ART_AND_DESIGN</td>\n",
       "      <td>967</td>\n",
       "      <td>Free</td>\n",
       "      <td>0</td>\n",
       "      <td>Everyone</td>\n",
       "    </tr>\n",
       "    <tr>\n",
       "      <th>2</th>\n",
       "      <td>1</td>\n",
       "      <td>ART_AND_DESIGN</td>\n",
       "      <td>87510</td>\n",
       "      <td>Free</td>\n",
       "      <td>0</td>\n",
       "      <td>Everyone</td>\n",
       "    </tr>\n",
       "    <tr>\n",
       "      <th>3</th>\n",
       "      <td>0</td>\n",
       "      <td>ART_AND_DESIGN</td>\n",
       "      <td>215644</td>\n",
       "      <td>Free</td>\n",
       "      <td>0</td>\n",
       "      <td>Teen</td>\n",
       "    </tr>\n",
       "    <tr>\n",
       "      <th>4</th>\n",
       "      <td>0</td>\n",
       "      <td>ART_AND_DESIGN</td>\n",
       "      <td>967</td>\n",
       "      <td>Free</td>\n",
       "      <td>0</td>\n",
       "      <td>Everyone</td>\n",
       "    </tr>\n",
       "  </tbody>\n",
       "</table>\n",
       "</div>"
      ],
      "text/plain": [
       "   New Rating        Category Reviews  Type Price Content Rating\n",
       "0           0  ART_AND_DESIGN     159  Free     0       Everyone\n",
       "1           0  ART_AND_DESIGN     967  Free     0       Everyone\n",
       "2           1  ART_AND_DESIGN   87510  Free     0       Everyone\n",
       "3           0  ART_AND_DESIGN  215644  Free     0           Teen\n",
       "4           0  ART_AND_DESIGN     967  Free     0       Everyone"
      ]
     },
     "execution_count": 5,
     "metadata": {},
     "output_type": "execute_result"
    }
   ],
   "source": [
    "#Select which columns are best suited to predict whether the rating is above 4.5\n",
    "#Category, Reviews, Type, Price, Content Rating\n",
    "reviews2 = reviews[['New Rating','Category', 'Reviews', 'Type', 'Price', 'Content Rating']]\n",
    "reviews2 = reviews2.dropna()\n",
    "reviews2.head()"
   ]
  },
  {
   "cell_type": "code",
   "execution_count": 6,
   "metadata": {
    "colab": {
     "base_uri": "https://localhost:8080/",
     "height": 238
    },
    "id": "MjoS1QsEG-tc",
    "outputId": "0ac6624b-15a9-4f8a-ace6-b07d4fc3947b"
   },
   "outputs": [
    {
     "name": "stdout",
     "output_type": "stream",
     "text": [
      "<class 'pandas.core.frame.DataFrame'>\n",
      "Int64Index: 10839 entries, 0 to 10840\n",
      "Data columns (total 6 columns):\n",
      " #   Column          Non-Null Count  Dtype \n",
      "---  ------          --------------  ----- \n",
      " 0   New Rating      10839 non-null  int64 \n",
      " 1   Category        10839 non-null  object\n",
      " 2   Reviews         10839 non-null  object\n",
      " 3   Type            10839 non-null  object\n",
      " 4   Price           10839 non-null  object\n",
      " 5   Content Rating  10839 non-null  object\n",
      "dtypes: int64(1), object(5)\n",
      "memory usage: 592.8+ KB\n"
     ]
    }
   ],
   "source": [
    "reviews2.info()"
   ]
  },
  {
   "cell_type": "code",
   "execution_count": 7,
   "metadata": {},
   "outputs": [],
   "source": [
    "#turning reviews and price into numeric\n",
    "reviews2.Price = reviews2.Price.replace('[\\$,]', '', regex=True).astype(float)\n",
    "reviews2['Reviews'] = reviews2['Reviews'].astype(int)"
   ]
  },
  {
   "cell_type": "code",
   "execution_count": 8,
   "metadata": {
    "colab": {
     "base_uri": "https://localhost:8080/",
     "height": 238
    },
    "id": "Ss-E8ykrIJ_G",
    "outputId": "6c755bb4-ec68-4c2f-a8a7-964696c9f2ec"
   },
   "outputs": [
    {
     "name": "stdout",
     "output_type": "stream",
     "text": [
      "<class 'pandas.core.frame.DataFrame'>\n",
      "Int64Index: 10839 entries, 0 to 10840\n",
      "Data columns (total 6 columns):\n",
      " #   Column          Non-Null Count  Dtype  \n",
      "---  ------          --------------  -----  \n",
      " 0   New Rating      10839 non-null  int64  \n",
      " 1   Category        10839 non-null  object \n",
      " 2   Reviews         10839 non-null  int64  \n",
      " 3   Type            10839 non-null  object \n",
      " 4   Price           10839 non-null  float64\n",
      " 5   Content Rating  10839 non-null  object \n",
      "dtypes: float64(1), int64(2), object(3)\n",
      "memory usage: 592.8+ KB\n"
     ]
    }
   ],
   "source": [
    "reviews2.info()"
   ]
  },
  {
   "cell_type": "code",
   "execution_count": 9,
   "metadata": {
    "id": "DdxjCUDOINWm"
   },
   "outputs": [],
   "source": [
    "#splitting data target variable = New Rating\n",
    "from sklearn.model_selection import train_test_split\n",
    "X = reviews2.drop(['New Rating'], axis=1)\n",
    "y = reviews2['New Rating']\n",
    "\n",
    "X_train, X_test, y_train, y_test = train_test_split(X, y, test_size=0.2)"
   ]
  },
  {
   "cell_type": "code",
   "execution_count": 11,
   "metadata": {
    "id": "i5MeXhflbhhf"
   },
   "outputs": [],
   "source": [
    "# quantile transformer\n",
    "#from sklearn.preprocessing import QuantileTransformer\n",
    "#qt = QuantileTransformer()\n",
    "#X_train_t = qt.fit_transform(X_train)"
   ]
  },
  {
   "cell_type": "code",
   "execution_count": 12,
   "metadata": {},
   "outputs": [],
   "source": [
    "#category encoder for cat columns\n",
    "from category_encoders.leave_one_out import LeaveOneOutEncoder\n",
    "encoder = LeaveOneOutEncoder(cols=['Category', 'Type', 'Content Rating'])\n",
    "encoder.fit(X_train, y_train)\n",
    "X_train_loo = encoder.transform(X_train)"
   ]
  },
  {
   "cell_type": "code",
   "execution_count": 13,
   "metadata": {},
   "outputs": [
    {
     "data": {
      "text/html": [
       "<div>\n",
       "<style scoped>\n",
       "    .dataframe tbody tr th:only-of-type {\n",
       "        vertical-align: middle;\n",
       "    }\n",
       "\n",
       "    .dataframe tbody tr th {\n",
       "        vertical-align: top;\n",
       "    }\n",
       "\n",
       "    .dataframe thead th {\n",
       "        text-align: right;\n",
       "    }\n",
       "</style>\n",
       "<table border=\"1\" class=\"dataframe\">\n",
       "  <thead>\n",
       "    <tr style=\"text-align: right;\">\n",
       "      <th></th>\n",
       "      <th>Category</th>\n",
       "      <th>Reviews</th>\n",
       "      <th>Type</th>\n",
       "      <th>Price</th>\n",
       "      <th>Content Rating</th>\n",
       "    </tr>\n",
       "  </thead>\n",
       "  <tbody>\n",
       "    <tr>\n",
       "      <th>8322</th>\n",
       "      <td>0.103774</td>\n",
       "      <td>9</td>\n",
       "      <td>0.171581</td>\n",
       "      <td>0.00</td>\n",
       "      <td>0.183656</td>\n",
       "    </tr>\n",
       "    <tr>\n",
       "      <th>10454</th>\n",
       "      <td>0.186391</td>\n",
       "      <td>32</td>\n",
       "      <td>0.171581</td>\n",
       "      <td>0.00</td>\n",
       "      <td>0.183656</td>\n",
       "    </tr>\n",
       "    <tr>\n",
       "      <th>7019</th>\n",
       "      <td>0.186398</td>\n",
       "      <td>5481</td>\n",
       "      <td>0.171581</td>\n",
       "      <td>0.00</td>\n",
       "      <td>0.183656</td>\n",
       "    </tr>\n",
       "    <tr>\n",
       "      <th>290</th>\n",
       "      <td>0.154667</td>\n",
       "      <td>11442</td>\n",
       "      <td>0.272871</td>\n",
       "      <td>4.99</td>\n",
       "      <td>0.183656</td>\n",
       "    </tr>\n",
       "    <tr>\n",
       "      <th>3042</th>\n",
       "      <td>0.162939</td>\n",
       "      <td>277904</td>\n",
       "      <td>0.171581</td>\n",
       "      <td>0.00</td>\n",
       "      <td>0.138958</td>\n",
       "    </tr>\n",
       "    <tr>\n",
       "      <th>...</th>\n",
       "      <td>...</td>\n",
       "      <td>...</td>\n",
       "      <td>...</td>\n",
       "      <td>...</td>\n",
       "      <td>...</td>\n",
       "    </tr>\n",
       "    <tr>\n",
       "      <th>2279</th>\n",
       "      <td>0.217270</td>\n",
       "      <td>163</td>\n",
       "      <td>0.272871</td>\n",
       "      <td>1.99</td>\n",
       "      <td>0.183656</td>\n",
       "    </tr>\n",
       "    <tr>\n",
       "      <th>559</th>\n",
       "      <td>0.108696</td>\n",
       "      <td>4953</td>\n",
       "      <td>0.171581</td>\n",
       "      <td>0.00</td>\n",
       "      <td>0.169102</td>\n",
       "    </tr>\n",
       "    <tr>\n",
       "      <th>7874</th>\n",
       "      <td>0.186398</td>\n",
       "      <td>1</td>\n",
       "      <td>0.171581</td>\n",
       "      <td>0.00</td>\n",
       "      <td>0.183656</td>\n",
       "    </tr>\n",
       "    <tr>\n",
       "      <th>2391</th>\n",
       "      <td>0.217270</td>\n",
       "      <td>90</td>\n",
       "      <td>0.171581</td>\n",
       "      <td>0.00</td>\n",
       "      <td>0.183656</td>\n",
       "    </tr>\n",
       "    <tr>\n",
       "      <th>8384</th>\n",
       "      <td>0.068111</td>\n",
       "      <td>0</td>\n",
       "      <td>0.171581</td>\n",
       "      <td>0.00</td>\n",
       "      <td>0.183656</td>\n",
       "    </tr>\n",
       "  </tbody>\n",
       "</table>\n",
       "<p>8671 rows × 5 columns</p>\n",
       "</div>"
      ],
      "text/plain": [
       "       Category  Reviews      Type  Price  Content Rating\n",
       "8322   0.103774        9  0.171581   0.00        0.183656\n",
       "10454  0.186391       32  0.171581   0.00        0.183656\n",
       "7019   0.186398     5481  0.171581   0.00        0.183656\n",
       "290    0.154667    11442  0.272871   4.99        0.183656\n",
       "3042   0.162939   277904  0.171581   0.00        0.138958\n",
       "...         ...      ...       ...    ...             ...\n",
       "2279   0.217270      163  0.272871   1.99        0.183656\n",
       "559    0.108696     4953  0.171581   0.00        0.169102\n",
       "7874   0.186398        1  0.171581   0.00        0.183656\n",
       "2391   0.217270       90  0.171581   0.00        0.183656\n",
       "8384   0.068111        0  0.171581   0.00        0.183656\n",
       "\n",
       "[8671 rows x 5 columns]"
      ]
     },
     "execution_count": 13,
     "metadata": {},
     "output_type": "execute_result"
    }
   ],
   "source": [
    "X_train_loo"
   ]
  },
  {
   "cell_type": "code",
   "execution_count": 14,
   "metadata": {
    "id": "Lazlo278KEka"
   },
   "outputs": [
    {
     "data": {
      "text/plain": [
       "RandomForestClassifier()"
      ]
     },
     "execution_count": 14,
     "metadata": {},
     "output_type": "execute_result"
    }
   ],
   "source": [
    "from sklearn.ensemble import RandomForestClassifier\n",
    "\n",
    "forest = RandomForestClassifier()\n",
    "forest.fit(X_train_loo, y_train)"
   ]
  },
  {
   "cell_type": "code",
   "execution_count": 15,
   "metadata": {},
   "outputs": [
    {
     "data": {
      "text/plain": [
       "GridSearchCV(cv=5,\n",
       "             estimator=RandomForestRegressor(max_features='sqrt',\n",
       "                                             n_estimators=50),\n",
       "             param_grid={'max_depth': [20, 30, 40],\n",
       "                         'min_samples_split': [50, 75, 100]},\n",
       "             scoring='neg_root_mean_squared_error')"
      ]
     },
     "execution_count": 15,
     "metadata": {},
     "output_type": "execute_result"
    }
   ],
   "source": [
    "from sklearn.model_selection import GridSearchCV\n",
    "from sklearn.ensemble import RandomForestRegressor\n",
    "\n",
    "trees = 50\n",
    "\n",
    "params = {'max_depth': [20, 30, 40], 'min_samples_split':[50, 75, 100]}\n",
    "\n",
    "forest_reg = RandomForestRegressor(n_estimators=trees, max_features='sqrt')\n",
    "\n",
    "forest_grid = GridSearchCV(forest_reg, param_grid=params, scoring='neg_root_mean_squared_error', cv=5)\n",
    "\n",
    "forest_grid.fit(X_train_loo, y_train)"
   ]
  },
  {
   "cell_type": "code",
   "execution_count": 16,
   "metadata": {},
   "outputs": [],
   "source": [
    "X_test_loo = encoder.transform(X_test)"
   ]
  },
  {
   "cell_type": "code",
   "execution_count": 17,
   "metadata": {},
   "outputs": [
    {
     "name": "stdout",
     "output_type": "stream",
     "text": [
      "Train RMSE: 0.3382\n",
      "Test RMSE: 0.3605\n"
     ]
    }
   ],
   "source": [
    "from sklearn.metrics import mean_squared_error\n",
    "\n",
    "y_train_forest_pred = forest_grid.predict(X_train_loo)\n",
    "y_forest_pred = forest_grid.predict(X_test_loo)\n",
    "\n",
    "rmse_forest_train = mean_squared_error(y_train,y_train_forest_pred, squared=False)\n",
    "rmse_forest_test = mean_squared_error(y_test, y_forest_pred, squared=False)\n",
    "\n",
    "print('Train RMSE: {:.4f}'.format(rmse_forest_train))\n",
    "print('Test RMSE: {:.4f}'.format(rmse_forest_test))"
   ]
  },
  {
   "cell_type": "code",
   "execution_count": 18,
   "metadata": {},
   "outputs": [
    {
     "name": "stdout",
     "output_type": "stream",
     "text": [
      "Forest Model\n",
      "Max Depth 20\n",
      "Min Sample Split 50\n",
      "\n",
      "Forest model feature importances: \n",
      "Reviews           0.808711\n",
      "Category          0.130734\n",
      "Price             0.031605\n",
      "Content Rating    0.025059\n",
      "Type              0.003891\n",
      "dtype: float64\n"
     ]
    }
   ],
   "source": [
    "print('Forest Model\\nMax Depth {}\\nMin Sample Split {}\\n'.format(\n",
    "    forest_grid.best_estimator_.max_depth, forest_grid.best_estimator_.min_samples_split))\n",
    "\n",
    "forest_importance = pd.Series(forest.feature_importances_, X_train_loo.columns).sort_values(ascending=False)\n",
    "print('Forest model feature importances: \\n{}'.format(forest_importance))"
   ]
  },
  {
   "cell_type": "code",
   "execution_count": 19,
   "metadata": {},
   "outputs": [
    {
     "name": "stdout",
     "output_type": "stream",
     "text": [
      "              precision    recall  f1-score   support\n",
      "\n",
      "           0       0.86      0.90      0.88      1803\n",
      "           1       0.37      0.30      0.33       365\n",
      "\n",
      "    accuracy                           0.80      2168\n",
      "   macro avg       0.62      0.60      0.61      2168\n",
      "weighted avg       0.78      0.80      0.79      2168\n",
      "\n"
     ]
    }
   ],
   "source": [
    "X_test_loo = encoder.transform(X_test)\n",
    "y_pred_test = forest.predict(X_test_loo)\n",
    "\n",
    "from sklearn.metrics import classification_report\n",
    "\n",
    "report = classification_report(y_test, y_pred_test)\n",
    "print(report)"
   ]
  },
  {
   "cell_type": "code",
   "execution_count": 24,
   "metadata": {},
   "outputs": [
    {
     "data": {
      "image/png": "[encoded data removed]",
      "text/plain": [
       "<Figure size 432x288 with 2 Axes>"
      ]
     },
     "metadata": {
      "needs_background": "light"
     },
     "output_type": "display_data"
    }
   ],
   "source": [
    "from sklearn.metrics import confusion_matrix, plot_confusion_matrix\n",
    "cm = confusion_matrix(y_test, y_pred_test)\n",
    "plot_confusion_matrix(forest, X_test_loo, y_test, cmap='Blues', xticks_rotation=45)\n",
    "plt.show()"
   ]
  },
  {
   "cell_type": "code",
   "execution_count": 21,
   "metadata": {},
   "outputs": [
    {
     "name": "stdout",
     "output_type": "stream",
     "text": [
      "Area under the ROC curve: 0.598\n"
     ]
    },
    {
     "data": {
      "image/png": "[encoded data removed]",
      "text/plain": [
       "<Figure size 432x432 with 1 Axes>"
      ]
     },
     "metadata": {
      "needs_background": "light"
     },
     "output_type": "display_data"
    }
   ],
   "source": [
    "from sklearn.metrics import roc_curve, precision_recall_curve, roc_auc_score\n",
    "#preds = forest_grid.predict_proba(X_test_loo)[:,1]\n",
    "fpr1, tpr1, thresholds = roc_curve(y_test, y_pred_test)\n",
    "auc = roc_auc_score(y_test, y_pred_test)\n",
    "print('Area under the ROC curve: {:.3f}'.format(auc))\n",
    "\n",
    "plt.figure(figsize=(6,6))\n",
    "plt.plot([0, 1], [0, 1], 'k--')\n",
    "plt.plot(fpr1, tpr1)\n",
    "plt.xlabel('False Positive Rate')\n",
    "plt.ylabel('True Positive Rate')\n",
    "plt.title('ROC curve for RandomForest Regression Model')\n",
    "plt.show()\n"
   ]
  },
  {
   "cell_type": "code",
   "execution_count": null,
   "metadata": {},
   "outputs": [],
   "source": []
  }
 ],
 "metadata": {
  "colab": {
   "collapsed_sections": [],
   "name": "Day30_Assignment2.ipynb",
   "provenance": []
  },
  "kernelspec": {
   "display_name": "Python 3",
   "language": "python",
   "name": "python3"
  },
  "language_info": {
   "codemirror_mode": {
    "name": "ipython",
    "version": 3
   },
   "file_extension": ".py",
   "mimetype": "text/x-python",
   "name": "python",
   "nbconvert_exporter": "python",
   "pygments_lexer": "ipython3",
   "version": "3.8.3"
  }
 },
 "nbformat": 4,
 "nbformat_minor": 1
}
